{
 "cells": [
  {
   "cell_type": "code",
   "execution_count": null,
   "metadata": {},
   "outputs": [],
   "source": [
    "# Vorstellung: MNIST-Daten!\n",
    "# http://yann.lecun.com/exdb/mnist/\n",
    "# FashionMNIST: https://github.com/zalandoresearch/fashion-mnist\n",
    "\n",
    "import gzip\n",
    "import numpy as np\n",
    "from keras.utils import to_categorical\n",
    "\n",
    "def open_images(filename):\n",
    "    with gzip.open(filename, \"rb\") as file:\n",
    "        data = file.read()\n",
    "        return np.frombuffer(data, dtype=np.uint8, offset=16)\\\n",
    "            .reshape(-1, 28, 28)\\\n",
    "            .astype(np.float32)\n",
    "\n",
    "\n",
    "def open_labels(filename):\n",
    "    with gzip.open(filename, \"rb\") as file:\n",
    "        data = file.read()\n",
    "        return np.frombuffer(data, dtype=np.uint8, offset=8)\n",
    "    \n",
    "X_train = open_images(\"../data/fashion/train-images-idx3-ubyte.gz\")\n",
    "y_train = open_labels(\"../data/fashion/train-labels-idx1-ubyte.gz\")\n",
    "\n",
    "X_test = open_images(\"../data/fashion/t10k-images-idx3-ubyte.gz\")\n",
    "y_test = open_labels(\"../data/fashion/t10k-labels-idx1-ubyte.gz\")\n",
    "\n",
    "y_train = to_categorical(y_train)\n",
    "y_test = to_categorical(y_test)"
   ]
  },
  {
   "cell_type": "markdown",
   "metadata": {},
   "source": [
    "### Neuronales Netz (mit Softmax)"
   ]
  },
  {
   "cell_type": "code",
   "execution_count": null,
   "metadata": {},
   "outputs": [],
   "source": [
    "from keras.models import Sequential\n",
    "from keras.layers import Dense"
   ]
  },
  {
   "cell_type": "code",
   "execution_count": 7,
   "metadata": {},
   "outputs": [],
   "source": [
    "model = Sequential()\n",
    "\n",
    "model.add(Dense(200, activation=\"sigmoid\", input_shape=(784,)))\n",
    "model.add(Dense(100, activation=\"sigmoid\", input_shape=(784,)))\n",
    "model.add(Dense(50, activation = \"sigmoid\", input_shape=(784,)))\n",
    "model.add(Dense(10, activation=\"softmax\"))\n",
    "\n",
    "# rmsprop, adam\n",
    "model.compile(optimizer=\"adam\", loss=\"categorical_crossentropy\", metrics=[\"accuracy\"])"
   ]
  },
  {
   "cell_type": "code",
   "execution_count": 8,
   "metadata": {},
   "outputs": [
    {
     "name": "stdout",
     "output_type": "stream",
     "text": [
      "Epoch 1/100\n",
      "60000/60000 [==============================] - 1s 15us/step - loss: 2.0027 - acc: 0.3704\n",
      "Epoch 2/100\n",
      "60000/60000 [==============================] - 0s 8us/step - loss: 1.2391 - acc: 0.7148\n",
      "Epoch 3/100\n",
      "60000/60000 [==============================] - 1s 9us/step - loss: 0.8373 - acc: 0.7630\n",
      "Epoch 4/100\n",
      "60000/60000 [==============================] - 0s 7us/step - loss: 0.6835 - acc: 0.7886\n",
      "Epoch 5/100\n",
      "60000/60000 [==============================] - 1s 11us/step - loss: 0.6089 - acc: 0.8075\n",
      "Epoch 6/100\n",
      "60000/60000 [==============================] - 1s 10us/step - loss: 0.5689 - acc: 0.8143\n",
      "Epoch 7/100\n",
      "60000/60000 [==============================] - 1s 10us/step - loss: 0.5400 - acc: 0.8167\n",
      "Epoch 8/100\n",
      "60000/60000 [==============================] - 1s 11us/step - loss: 0.5332 - acc: 0.8181\n",
      "Epoch 9/100\n",
      "60000/60000 [==============================] - 1s 10us/step - loss: 0.5074 - acc: 0.8226\n",
      "Epoch 10/100\n",
      "60000/60000 [==============================] - 1s 10us/step - loss: 0.5155 - acc: 0.8196\n",
      "Epoch 11/100\n",
      "60000/60000 [==============================] - 1s 11us/step - loss: 0.5079 - acc: 0.8211\n",
      "Epoch 12/100\n",
      "60000/60000 [==============================] - 1s 11us/step - loss: 0.5065 - acc: 0.8221\n",
      "Epoch 13/100\n",
      "60000/60000 [==============================] - 1s 10us/step - loss: 0.5182 - acc: 0.8123\n",
      "Epoch 14/100\n",
      "60000/60000 [==============================] - 1s 10us/step - loss: 0.5074 - acc: 0.8195\n",
      "Epoch 15/100\n",
      "60000/60000 [==============================] - 1s 10us/step - loss: 0.4903 - acc: 0.8261\n",
      "Epoch 16/100\n",
      "60000/60000 [==============================] - 1s 9us/step - loss: 0.4975 - acc: 0.8263\n",
      "Epoch 17/100\n",
      "60000/60000 [==============================] - 1s 10us/step - loss: 0.5060 - acc: 0.8175\n",
      "Epoch 18/100\n",
      "60000/60000 [==============================] - 1s 10us/step - loss: 0.4958 - acc: 0.8224\n",
      "Epoch 19/100\n",
      "60000/60000 [==============================] - 1s 10us/step - loss: 0.4993 - acc: 0.8221\n",
      "Epoch 20/100\n",
      "60000/60000 [==============================] - 1s 10us/step - loss: 0.4999 - acc: 0.8193\n",
      "Epoch 21/100\n",
      "60000/60000 [==============================] - 1s 10us/step - loss: 0.4923 - acc: 0.8232\n",
      "Epoch 22/100\n",
      "60000/60000 [==============================] - 1s 10us/step - loss: 0.4715 - acc: 0.8319\n",
      "Epoch 23/100\n",
      "60000/60000 [==============================] - 1s 10us/step - loss: 0.4808 - acc: 0.8245\n",
      "Epoch 24/100\n",
      "60000/60000 [==============================] - 1s 10us/step - loss: 0.4723 - acc: 0.8318\n",
      "Epoch 25/100\n",
      "60000/60000 [==============================] - 1s 10us/step - loss: 0.4790 - acc: 0.8265\n",
      "Epoch 26/100\n",
      "60000/60000 [==============================] - 1s 10us/step - loss: 0.4808 - acc: 0.8256\n",
      "Epoch 27/100\n",
      "60000/60000 [==============================] - 1s 10us/step - loss: 0.4764 - acc: 0.8263\n",
      "Epoch 28/100\n",
      "60000/60000 [==============================] - 1s 10us/step - loss: 0.4821 - acc: 0.8251\n",
      "Epoch 29/100\n",
      "60000/60000 [==============================] - 1s 10us/step - loss: 0.4739 - acc: 0.8265\n",
      "Epoch 30/100\n",
      "60000/60000 [==============================] - 1s 10us/step - loss: 0.4704 - acc: 0.8307\n",
      "Epoch 31/100\n",
      "60000/60000 [==============================] - 1s 11us/step - loss: 0.4730 - acc: 0.8291\n",
      "Epoch 32/100\n",
      "60000/60000 [==============================] - 1s 10us/step - loss: 0.4656 - acc: 0.8348\n",
      "Epoch 33/100\n",
      "60000/60000 [==============================] - 1s 10us/step - loss: 0.4737 - acc: 0.8303\n",
      "Epoch 34/100\n",
      "60000/60000 [==============================] - 1s 11us/step - loss: 0.4707 - acc: 0.8287\n",
      "Epoch 35/100\n",
      "60000/60000 [==============================] - 1s 10us/step - loss: 0.4527 - acc: 0.8367\n",
      "Epoch 36/100\n",
      "60000/60000 [==============================] - 1s 9us/step - loss: 0.4529 - acc: 0.8359\n",
      "Epoch 37/100\n",
      "60000/60000 [==============================] - 1s 10us/step - loss: 0.4541 - acc: 0.8357\n",
      "Epoch 38/100\n",
      "60000/60000 [==============================] - 1s 10us/step - loss: 0.4487 - acc: 0.8391\n",
      "Epoch 39/100\n",
      "60000/60000 [==============================] - 1s 10us/step - loss: 0.4393 - acc: 0.8419\n",
      "Epoch 40/100\n",
      "60000/60000 [==============================] - 1s 10us/step - loss: 0.4410 - acc: 0.8412\n",
      "Epoch 41/100\n",
      "60000/60000 [==============================] - 1s 10us/step - loss: 0.4413 - acc: 0.8408\n",
      "Epoch 42/100\n",
      "60000/60000 [==============================] - 1s 10us/step - loss: 0.4418 - acc: 0.8394\n",
      "Epoch 43/100\n",
      "60000/60000 [==============================] - 1s 10us/step - loss: 0.4424 - acc: 0.8355\n",
      "Epoch 44/100\n",
      "60000/60000 [==============================] - 1s 10us/step - loss: 0.4530 - acc: 0.8355\n",
      "Epoch 45/100\n",
      "60000/60000 [==============================] - 1s 10us/step - loss: 0.4495 - acc: 0.8374\n",
      "Epoch 46/100\n",
      "60000/60000 [==============================] - 1s 10us/step - loss: 0.4379 - acc: 0.8405\n",
      "Epoch 47/100\n",
      "60000/60000 [==============================] - 1s 10us/step - loss: 0.4351 - acc: 0.8431\n",
      "Epoch 48/100\n",
      "60000/60000 [==============================] - 1s 9us/step - loss: 0.4525 - acc: 0.8361\n",
      "Epoch 49/100\n",
      "60000/60000 [==============================] - 1s 10us/step - loss: 0.4468 - acc: 0.8370\n",
      "Epoch 50/100\n",
      "60000/60000 [==============================] - 1s 10us/step - loss: 0.4385 - acc: 0.8406\n",
      "Epoch 51/100\n",
      "60000/60000 [==============================] - 1s 10us/step - loss: 0.4371 - acc: 0.8421\n",
      "Epoch 52/100\n",
      "60000/60000 [==============================] - 1s 10us/step - loss: 0.4341 - acc: 0.8457\n",
      "Epoch 53/100\n",
      "60000/60000 [==============================] - 1s 10us/step - loss: 0.4273 - acc: 0.8451\n",
      "Epoch 54/100\n",
      "60000/60000 [==============================] - 1s 11us/step - loss: 0.4327 - acc: 0.8411\n",
      "Epoch 55/100\n",
      "60000/60000 [==============================] - 1s 10us/step - loss: 0.4397 - acc: 0.8420\n",
      "Epoch 56/100\n",
      "60000/60000 [==============================] - 1s 10us/step - loss: 0.4324 - acc: 0.8437\n",
      "Epoch 57/100\n",
      "60000/60000 [==============================] - 1s 10us/step - loss: 0.4266 - acc: 0.8454\n",
      "Epoch 58/100\n",
      "60000/60000 [==============================] - 1s 10us/step - loss: 0.4346 - acc: 0.8421\n",
      "Epoch 59/100\n",
      "60000/60000 [==============================] - 1s 11us/step - loss: 0.4363 - acc: 0.8417\n",
      "Epoch 60/100\n",
      "60000/60000 [==============================] - 1s 11us/step - loss: 0.4418 - acc: 0.8373\n",
      "Epoch 61/100\n",
      "60000/60000 [==============================] - 1s 13us/step - loss: 0.4315 - acc: 0.8456\n",
      "Epoch 62/100\n",
      "60000/60000 [==============================] - 1s 10us/step - loss: 0.4314 - acc: 0.8396\n",
      "Epoch 63/100\n",
      "60000/60000 [==============================] - 1s 10us/step - loss: 0.4227 - acc: 0.8494\n",
      "Epoch 64/100\n",
      "60000/60000 [==============================] - 1s 10us/step - loss: 0.4306 - acc: 0.8436\n",
      "Epoch 65/100\n",
      "60000/60000 [==============================] - 1s 11us/step - loss: 0.4267 - acc: 0.8461\n",
      "Epoch 66/100\n",
      "60000/60000 [==============================] - 1s 10us/step - loss: 0.4210 - acc: 0.8481\n",
      "Epoch 67/100\n",
      "60000/60000 [==============================] - 1s 10us/step - loss: 0.4241 - acc: 0.8478\n",
      "Epoch 68/100\n",
      "60000/60000 [==============================] - 1s 10us/step - loss: 0.4226 - acc: 0.8461\n",
      "Epoch 69/100\n",
      "60000/60000 [==============================] - 1s 11us/step - loss: 0.4211 - acc: 0.8471\n",
      "Epoch 70/100\n",
      "60000/60000 [==============================] - 1s 10us/step - loss: 0.4195 - acc: 0.8472\n",
      "Epoch 71/100\n",
      "60000/60000 [==============================] - 1s 11us/step - loss: 0.4155 - acc: 0.8479\n",
      "Epoch 72/100\n",
      "60000/60000 [==============================] - 1s 10us/step - loss: 0.4145 - acc: 0.8530\n",
      "Epoch 73/100\n",
      "60000/60000 [==============================] - 1s 10us/step - loss: 0.4236 - acc: 0.8486\n",
      "Epoch 74/100\n",
      "60000/60000 [==============================] - 1s 10us/step - loss: 0.4481 - acc: 0.8372\n",
      "Epoch 75/100\n",
      "60000/60000 [==============================] - 1s 10us/step - loss: 0.4289 - acc: 0.8462\n",
      "Epoch 76/100\n",
      "60000/60000 [==============================] - 1s 10us/step - loss: 0.4273 - acc: 0.8404\n",
      "Epoch 77/100\n",
      "60000/60000 [==============================] - 1s 11us/step - loss: 0.4088 - acc: 0.8500\n",
      "Epoch 78/100\n",
      "60000/60000 [==============================] - 1s 11us/step - loss: 0.4145 - acc: 0.8477\n",
      "Epoch 79/100\n",
      "60000/60000 [==============================] - 1s 11us/step - loss: 0.4078 - acc: 0.8519\n",
      "Epoch 80/100\n",
      "60000/60000 [==============================] - 1s 11us/step - loss: 0.4179 - acc: 0.8481\n",
      "Epoch 81/100\n",
      "60000/60000 [==============================] - 1s 10us/step - loss: 0.4070 - acc: 0.8519\n",
      "Epoch 82/100\n",
      "60000/60000 [==============================] - 1s 13us/step - loss: 0.4074 - acc: 0.8522\n",
      "Epoch 83/100\n",
      "60000/60000 [==============================] - 1s 10us/step - loss: 0.4109 - acc: 0.8499\n",
      "Epoch 84/100\n",
      "60000/60000 [==============================] - 1s 11us/step - loss: 0.4016 - acc: 0.8547\n",
      "Epoch 85/100\n",
      "60000/60000 [==============================] - 1s 10us/step - loss: 0.4068 - acc: 0.8514\n",
      "Epoch 86/100\n",
      "60000/60000 [==============================] - 1s 11us/step - loss: 0.3991 - acc: 0.8552\n",
      "Epoch 87/100\n",
      "60000/60000 [==============================] - 1s 12us/step - loss: 0.4095 - acc: 0.8513\n",
      "Epoch 88/100\n",
      "60000/60000 [==============================] - 1s 10us/step - loss: 0.4104 - acc: 0.8506\n",
      "Epoch 89/100\n",
      "60000/60000 [==============================] - 1s 10us/step - loss: 0.4043 - acc: 0.8531\n",
      "Epoch 90/100\n",
      "60000/60000 [==============================] - 1s 10us/step - loss: 0.3980 - acc: 0.8538\n",
      "Epoch 91/100\n",
      "60000/60000 [==============================] - 1s 10us/step - loss: 0.3933 - acc: 0.8563\n",
      "Epoch 92/100\n",
      "60000/60000 [==============================] - 1s 10us/step - loss: 0.4025 - acc: 0.8536\n",
      "Epoch 93/100\n",
      "60000/60000 [==============================] - 1s 10us/step - loss: 0.3994 - acc: 0.8572\n",
      "Epoch 94/100\n",
      "60000/60000 [==============================] - 1s 12us/step - loss: 0.4034 - acc: 0.8546\n",
      "Epoch 95/100\n",
      "60000/60000 [==============================] - 1s 11us/step - loss: 0.4146 - acc: 0.8494\n",
      "Epoch 96/100\n",
      "60000/60000 [==============================] - 1s 10us/step - loss: 0.4047 - acc: 0.8534\n",
      "Epoch 97/100\n",
      "60000/60000 [==============================] - 1s 11us/step - loss: 0.4057 - acc: 0.8512\n",
      "Epoch 98/100\n",
      "60000/60000 [==============================] - 1s 11us/step - loss: 0.3984 - acc: 0.8561\n",
      "Epoch 99/100\n",
      "60000/60000 [==============================] - 1s 11us/step - loss: 0.3971 - acc: 0.8523\n",
      "Epoch 100/100\n",
      "60000/60000 [==============================] - 1s 11us/step - loss: 0.4027 - acc: 0.8554\n"
     ]
    },
    {
     "data": {
      "text/plain": [
       "<keras.callbacks.History at 0x7f03bc111c50>"
      ]
     },
     "execution_count": 8,
     "metadata": {},
     "output_type": "execute_result"
    }
   ],
   "source": [
    "model.fit(\n",
    "    X_train.reshape(60000, 784),\n",
    "    y_train,\n",
    "    epochs=100,\n",
    "    batch_size=1000)"
   ]
  },
  {
   "cell_type": "markdown",
   "metadata": {},
   "source": [
    "### Es gilt: Das Netz passt sich an die Daten an.\n",
    "\n",
    "- Testgenauigkeit nur minimal schlechter wie die Trainingsgenauigkeit: Das Modell darf vermutlich noch was komplexer sein \n",
    "\n",
    "- Testgenauigkeit sehr viel schlechter wie die Trainingsgenauigkeit: Das Modell ist zu komplex (das Modell hat sich zu stark an die Trainingsdaten angepasst)\n",
    "\n",
    "- Beides schlecht: Du brauchst mehr Daten!"
   ]
  },
  {
   "cell_type": "code",
   "execution_count": 9,
   "metadata": {},
   "outputs": [
    {
     "name": "stdout",
     "output_type": "stream",
     "text": [
      "60000/60000 [==============================] - 1s 23us/step\n"
     ]
    },
    {
     "data": {
      "text/plain": [
       "[0.391973412557443, 0.86165]"
      ]
     },
     "execution_count": 9,
     "metadata": {},
     "output_type": "execute_result"
    }
   ],
   "source": [
    "model.evaluate(X_train.reshape(-1, 784), y_train)"
   ]
  },
  {
   "cell_type": "code",
   "execution_count": 10,
   "metadata": {},
   "outputs": [
    {
     "name": "stdout",
     "output_type": "stream",
     "text": [
      "10000/10000 [==============================] - 0s 23us/step\n"
     ]
    },
    {
     "data": {
      "text/plain": [
       "[0.4484039638757706, 0.8417]"
      ]
     },
     "execution_count": 10,
     "metadata": {},
     "output_type": "execute_result"
    }
   ],
   "source": [
    "model.evaluate(X_test.reshape(-1, 784), y_test)"
   ]
  },
  {
   "cell_type": "code",
   "execution_count": null,
   "metadata": {},
   "outputs": [],
   "source": []
  }
 ],
 "metadata": {
  "kernelspec": {
   "display_name": "Python 3",
   "language": "python",
   "name": "python3"
  },
  "language_info": {
   "codemirror_mode": {
    "name": "ipython",
    "version": 3
   },
   "file_extension": ".py",
   "mimetype": "text/x-python",
   "name": "python",
   "nbconvert_exporter": "python",
   "pygments_lexer": "ipython3",
   "version": "3.7.3"
  }
 },
 "nbformat": 4,
 "nbformat_minor": 2
}
