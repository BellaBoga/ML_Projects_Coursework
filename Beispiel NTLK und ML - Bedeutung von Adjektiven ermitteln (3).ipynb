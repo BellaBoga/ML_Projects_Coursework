{
 "cells": [
  {
   "cell_type": "markdown",
   "metadata": {},
   "source": [
    "Datenquelle: https://www.kaggle.com/snap/amazon-fine-food-reviews\n",
    "\n",
    "Davon betrachten wir nur die ersten 10.000 Zeilen."
   ]
  },
  {
   "cell_type": "code",
   "execution_count": null,
   "metadata": {},
   "outputs": [],
   "source": [
    "import pandas as pd\n",
    "\n",
    "df = pd.read_csv(\"./Reviews_10000.csv.bz2\")\n",
    "df.head()"
   ]
  },
  {
   "cell_type": "code",
   "execution_count": null,
   "metadata": {
    "collapsed": true
   },
   "outputs": [],
   "source": [
    "texts = df[\"Text\"]"
   ]
  },
  {
   "cell_type": "code",
   "execution_count": null,
   "metadata": {
    "collapsed": true
   },
   "outputs": [],
   "source": [
    "import nltk\n",
    "\n",
    "texts_transformed = []\n",
    "for review in texts: \n",
    "    sentences = nltk.sent_tokenize(review)\n",
    "    adjectives = []\n",
    "    \n",
    "    for sentence in sentences:\n",
    "        words = nltk.word_tokenize(sentence)\n",
    "        words_tagged = nltk.pos_tag(words)\n",
    "        \n",
    "        for word_tagged in words_tagged:\n",
    "            if word_tagged[1] == \"JJ\":\n",
    "                adjectives.append(word_tagged[0])\n",
    "                \n",
    "    texts_transformed.append(\" \".join(adjectives))"
   ]
  },
  {
   "cell_type": "code",
   "execution_count": null,
   "metadata": {
    "collapsed": true
   },
   "outputs": [],
   "source": [
    "from sklearn.feature_extraction.text import CountVectorizer\n",
    "from sklearn.model_selection import train_test_split\n",
    "from sklearn.naive_bayes import MultinomialNB"
   ]
  },
  {
   "cell_type": "code",
   "execution_count": null,
   "metadata": {
    "collapsed": true
   },
   "outputs": [],
   "source": [
    "X = texts_transformed\n",
    "y = df[\"Score\"] >= 4"
   ]
  },
  {
   "cell_type": "code",
   "execution_count": null,
   "metadata": {
    "collapsed": true
   },
   "outputs": [],
   "source": [
    "X_train, X_test, y_train, y_test = train_test_split(X, y, random_state = 42)\n",
    "\n",
    "cv = CountVectorizer(max_features = 50)\n",
    "cv.fit(X_train)\n",
    "\n",
    "X_train = cv.transform(X_train)\n",
    "X_test = cv.transform(X_test)"
   ]
  },
  {
   "cell_type": "code",
   "execution_count": null,
   "metadata": {},
   "outputs": [],
   "source": [
    "CountVectorizer?"
   ]
  },
  {
   "cell_type": "code",
   "execution_count": null,
   "metadata": {},
   "outputs": [],
   "source": [
    "model = MultinomialNB()\n",
    "model.fit(X_train, y_train)\n",
    "\n",
    "print(model.score(X_test, y_test))"
   ]
  },
  {
   "cell_type": "code",
   "execution_count": null,
   "metadata": {},
   "outputs": [],
   "source": [
    "adj = list(zip(model.coef_[0], cv.get_feature_names()))\n",
    "adj = sorted(adj)\n",
    "\n",
    "for i in adj:\n",
    "    print(i)"
   ]
  },
  {
   "cell_type": "code",
   "execution_count": 16,
   "metadata": {},
   "outputs": [
    {
     "name": "stdout",
     "output_type": "stream",
     "text": [
      "[(-4.725659583242217, 'green'), (-4.655042016028264, 'bad'), (-4.64374246077433, 'available'), (-4.62151932398962, 'right'), (-4.56283582216153, 'low'), (-4.5525264525026685, 'own'), (-4.542322282328427, 'full'), (-4.542322282328427, 'new'), (-4.527208644518379, 'real'), (-4.512320032024628, 'expensive'), (-4.507406017222199, 'several'), (-4.483191759101604, 'big'), (-4.468939736394403, 'br'), (-4.454887982938753, 'last'), (-4.365940496922256, 'whole'), (-4.349062459134904, 'hard'), (-4.349062459134904, 'sure'), (-4.344887087724424, 'organic'), (-4.344887087724424, 'same'), (-4.2842624659079895, 'natural'), (-4.268697949366878, 'wonderful'), (-4.264844380050888, 'high'), (-4.261005603743722, 'local'), (-4.257181507305319, 'tasty'), (-4.230814631464576, 'only'), (-4.219723944770418, 'excellent'), (-4.208754913399844, 'old'), (-4.162565530930469, 'happy'), (-4.155645088085896, 'fresh'), (-4.1522027438949225, 'healthy'), (-4.095426228092841, 'small'), (-4.072953372240782, 'different'), (-4.072953372240782, 'regular'), (-4.069783797479503, 'perfect'), (-4.032512402682271, 'sweet'), (-4.020391042149927, 'strong'), (-4.005443080714054, 'few'), (-3.9534082215909994, 'easy'), (-3.831564583759846, 'favorite'), (-3.8167128256238207, 'first'), (-3.8093688513680615, 'nice'), (-3.787655091144278, 'hot'), (-3.75248147696601, 'free'), (-3.747883767717381, 'many'), (-3.6538254136555004, 'delicious'), (-3.6311206199617434, 'much'), (-3.175246962478993, 'little'), (-2.9247953470212424, 'other'), (-2.3836192830147906, 'great'), (-2.201884064554844, 'good')]\n"
     ]
    }
   ],
   "source": [
    "print(sorted(adj))"
   ]
  },
  {
   "cell_type": "code",
   "execution_count": null,
   "metadata": {
    "collapsed": true
   },
   "outputs": [],
   "source": []
  }
 ],
 "metadata": {
  "kernelspec": {
   "display_name": "Python 3",
   "language": "python",
   "name": "python3"
  },
  "language_info": {
   "codemirror_mode": {
    "name": "ipython",
    "version": 3
   },
   "file_extension": ".py",
   "mimetype": "text/x-python",
   "name": "python",
   "nbconvert_exporter": "python",
   "pygments_lexer": "ipython3",
   "version": "3.7.3"
  }
 },
 "nbformat": 4,
 "nbformat_minor": 2
}
