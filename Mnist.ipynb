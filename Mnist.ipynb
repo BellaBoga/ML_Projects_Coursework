{
 "cells": [
  {
   "cell_type": "code",
   "execution_count": null,
   "metadata": {},
   "outputs": [],
   "source": [
    "import gzip\n",
    "import os\n",
    "import numpy as np\n",
    "\n",
    "train_data = os.path.join(\"mnist\", \"train-images-idx3-ubyte.gz\")\n",
    "train_labels = os.path.join(\"mnist\", \"train-labels-idx1-ubyte.gz\")\n",
    "\n",
    "test_data = os.path.join(\"mnist\", \"t10k-images-idx3-ubyte.gz\")\n",
    "test_labels = os.path.join(\"mnist\", \"t10k-labels-idx1-ubyte.gz\")"
   ]
  },
  {
   "cell_type": "code",
   "execution_count": null,
   "metadata": {},
   "outputs": [],
   "source": [
    "def mnist_images(filename):\n",
    "    with gzip.open(filename, \"rb\") as file:\n",
    "        data = np.frombuffer(file.read(), np.uint8, offset = 16)\n",
    "        return data.reshape(-1,28,28)/255\n",
    "\n",
    "def mnist_labels(filename):\n",
    "    with gzip.open(filename, \"rb\") as file:\n",
    "        return np.frombuffer(file.read(), np.uint8, offset = 8)\n",
    "\n",
    "X_train = mnist_images(train_data)\n",
    "y_train = mnist_labels(train_labels)\n",
    "\n",
    "X_test = mnist_images(test_data)\n",
    "y_test = mnist_labels(test_labels)  "
   ]
  },
  {
   "cell_type": "code",
   "execution_count": null,
   "metadata": {},
   "outputs": [],
   "source": [
    "%matplotlib inline\n",
    "import matplotlib.pyplot as plt\n",
    "\n",
    "print(y_train[26])\n",
    "plt.imshow(X_train[26])\n",
    "plt.show()"
   ]
  },
  {
   "cell_type": "code",
   "execution_count": null,
   "metadata": {},
   "outputs": [],
   "source": [
    "print(X_train.reshape(-1, 784))"
   ]
  },
  {
   "cell_type": "code",
   "execution_count": 59,
   "metadata": {},
   "outputs": [
    {
     "data": {
      "text/plain": [
       "0.9203"
      ]
     },
     "execution_count": 59,
     "metadata": {},
     "output_type": "execute_result"
    }
   ],
   "source": [
    "from sklearn.linear_model import LogisticRegression\n",
    "\n",
    "model0 = LogisticRegression(solver=\"saga\", n_jobs=4)\n",
    "model0.fit(X_train.reshape(-1, 784), y_train)\n",
    "model0.score(X_test.reshape(-1, 784), y_test)"
   ]
  },
  {
   "cell_type": "code",
   "execution_count": 58,
   "metadata": {},
   "outputs": [
    {
     "name": "stdout",
     "output_type": "stream",
     "text": [
      "0.9703\n"
     ]
    }
   ],
   "source": [
    "from sklearn.ensemble import RandomForestClassifier\n",
    "\n",
    "model1 = RandomForestClassifier(criterion = \"entropy\", n_estimators = 260, max_depth  = 740)\n",
    "model1.fit(X_train.reshape(-1, 784)[:60000, :], y_train[:60000])\n",
    "print(model1.score(X_test.reshape(-1, 784), y_test))"
   ]
  },
  {
   "cell_type": "code",
   "execution_count": 60,
   "metadata": {},
   "outputs": [],
   "source": [
    "from sklearn.preprocessing import StandardScaler\n",
    " \n",
    "scaler = StandardScaler()\n",
    "scaler.fit(X_train.reshape(-1, 784))\n",
    " \n",
    "X_train = scaler.transform(X_train.reshape(-1, 784))\n",
    "X_test = scaler.transform(X_test.reshape(-1, 784))"
   ]
  },
  {
   "cell_type": "code",
   "execution_count": 61,
   "metadata": {},
   "outputs": [
    {
     "name": "stdout",
     "output_type": "stream",
     "text": [
      "0.9692\n"
     ]
    }
   ],
   "source": [
    "from sklearn.svm import SVC\n",
    "\n",
    "model2 = SVC(kernel = \"poly\", degree = 2, coef0 = 1)\n",
    "model2.fit(X_train, y_train)\n",
    "\n",
    "print(model2.score(X_test, y_test))"
   ]
  },
  {
   "cell_type": "code",
   "execution_count": null,
   "metadata": {},
   "outputs": [],
   "source": [
    "model3 = SVC(kernel = \"rbf\", gamma = 0.01, C = 1)\n",
    "model3.fit(X_train, y_train)\n",
    "\n",
    "print(model3.score(X_test, y_test))"
   ]
  },
  {
   "cell_type": "code",
   "execution_count": null,
   "metadata": {},
   "outputs": [],
   "source": [
    "from sklearn.model_selection import learning_curve\n",
    "from sklearn.utils import shuffle\n",
    "import numpy as np\n",
    "train_sizes_abs, train_scores, test_scores = learning_curve(\n",
    "    SVC(kernel = \"rbf\", gamma = 0.01, C = 1),\n",
    "    X_train.reshape(-1, 784)[:60000, :],\n",
    "    y_train[:60000],\n",
    "    cv = 3)\n",
    "lw = 2\n",
    "plt.ylabel('score')\n",
    "plt.xlabel('Anzahl der Datenpunkte')\n",
    "plt.title(\"Validation Curves (SVM rbf kernel)\")\n",
    "plt.grid()\n",
    "plt.plot(train_sizes_abs, np.mean(train_scores, axis = 1),label=\"Training score\",\n",
    "             color=\"darkorange\", lw=lw)\n",
    "plt.plot(train_sizes_abs, np.mean(test_scores, axis = 1),label=\"Cross-validation score\",\n",
    "             color=\"navy\", lw=lw)\n",
    "plt.legend(loc=\"best\")\n",
    "plt.show()"
   ]
  }
 ],
 "metadata": {
  "kernelspec": {
   "display_name": "Python 3",
   "language": "python",
   "name": "python3"
  },
  "language_info": {
   "codemirror_mode": {
    "name": "ipython",
    "version": 3
   },
   "file_extension": ".py",
   "mimetype": "text/x-python",
   "name": "python",
   "nbconvert_exporter": "python",
   "pygments_lexer": "ipython3",
   "version": "3.7.3"
  }
 },
 "nbformat": 4,
 "nbformat_minor": 2
}
