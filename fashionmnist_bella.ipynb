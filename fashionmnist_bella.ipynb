{
 "cells": [
  {
   "cell_type": "code",
   "execution_count": 27,
   "metadata": {},
   "outputs": [],
   "source": [
    "import gzip\n",
    "import numpy as np\n",
    "\n",
    "def open_images(filename):\n",
    "    with gzip.open(filename, \"rb\") as file:\n",
    "        data = file.read()\n",
    "        return np.frombuffer(data, dtype=np.uint8, offset=16)\\\n",
    "            .reshape(-1, 28, 28)\\\n",
    "            .astype(np.float32)\n",
    "\n",
    "\n",
    "def open_labels(filename):\n",
    "    with gzip.open(filename, \"rb\") as file:\n",
    "        data = file.read()\n",
    "        return np.frombuffer(data, dtype=np.uint8, offset=8)\n",
    "    \n",
    "X_train = open_images(\"../data/fashion/train-images-idx3-ubyte.gz\")\n",
    "y_train = open_labels(\"../data/fashion/train-labels-idx1-ubyte.gz\")\n",
    "\n",
    "y_train = y_train == 0"
   ]
  },
  {
   "cell_type": "code",
   "execution_count": 28,
   "metadata": {},
   "outputs": [],
   "source": [
    "from keras.models import Sequential\n",
    "from keras.layers import Dense"
   ]
  },
  {
   "cell_type": "code",
   "execution_count": 29,
   "metadata": {},
   "outputs": [],
   "source": [
    "model = Sequential()\n",
    "\n",
    "model.add(Dense(100, activation=\"sigmoid\", input_shape=(784,)))\n",
    "model.add(Dense(1, activation=\"sigmoid\"))\n",
    "\n",
    "model.compile(optimizer=\"sgd\", loss = \"binary_crossentropy\", metrics=['mae', 'accuracy'])"
   ]
  },
  {
   "cell_type": "code",
   "execution_count": 30,
   "metadata": {},
   "outputs": [
    {
     "name": "stdout",
     "output_type": "stream",
     "text": [
      "Epoch 1/10\n",
      "60000/60000 [==============================] - 1s 9us/step - loss: 0.2680 - mean_absolute_error: 0.1879 - acc: 0.8887\n",
      "Epoch 2/10\n",
      "60000/60000 [==============================] - 0s 4us/step - loss: 0.1705 - mean_absolute_error: 0.1201 - acc: 0.9407\n",
      "Epoch 3/10\n",
      "60000/60000 [==============================] - 0s 4us/step - loss: 0.1507 - mean_absolute_error: 0.1048 - acc: 0.9479\n",
      "Epoch 4/10\n",
      "60000/60000 [==============================] - 0s 4us/step - loss: 0.1393 - mean_absolute_error: 0.0958 - acc: 0.9514\n",
      "Epoch 5/10\n",
      "60000/60000 [==============================] - 0s 5us/step - loss: 0.1320 - mean_absolute_error: 0.0889 - acc: 0.9524\n",
      "Epoch 6/10\n",
      "60000/60000 [==============================] - 0s 4us/step - loss: 0.1278 - mean_absolute_error: 0.0853 - acc: 0.9532\n",
      "Epoch 7/10\n",
      "60000/60000 [==============================] - 0s 4us/step - loss: 0.1239 - mean_absolute_error: 0.0824 - acc: 0.9534\n",
      "Epoch 8/10\n",
      "60000/60000 [==============================] - 0s 5us/step - loss: 0.1211 - mean_absolute_error: 0.0797 - acc: 0.9544\n",
      "Epoch 9/10\n",
      "60000/60000 [==============================] - 0s 5us/step - loss: 0.1185 - mean_absolute_error: 0.0777 - acc: 0.9546\n",
      "Epoch 10/10\n",
      "60000/60000 [==============================] - 0s 4us/step - loss: 0.1164 - mean_absolute_error: 0.0752 - acc: 0.9550\n"
     ]
    },
    {
     "data": {
      "text/plain": [
       "<keras.callbacks.History at 0x7f0a20156358>"
      ]
     },
     "execution_count": 30,
     "metadata": {},
     "output_type": "execute_result"
    }
   ],
   "source": [
    "model.fit(\n",
    "    X_train.reshape(60000, 784),\n",
    "    y_train,\n",
    "    epochs=10,\n",
    "    batch_size=1000)"
   ]
  },
  {
   "cell_type": "code",
   "execution_count": 31,
   "metadata": {},
   "outputs": [
    {
     "name": "stdout",
     "output_type": "stream",
     "text": [
      "60000/60000 [==============================] - 1s 14us/step\n"
     ]
    },
    {
     "data": {
      "text/plain": [
       "[0.1150163869202137, 0.07474790859768789, 0.9554166666666667]"
      ]
     },
     "execution_count": 31,
     "metadata": {},
     "output_type": "execute_result"
    }
   ],
   "source": [
    "model.evaluate(X_train.reshape(60000, 784), y_train)"
   ]
  },
  {
   "cell_type": "code",
   "execution_count": 32,
   "metadata": {},
   "outputs": [
    {
     "data": {
      "text/plain": [
       "array([[0.0028021 ],\n",
       "       [0.859936  ],\n",
       "       [0.06341806],\n",
       "       ...,\n",
       "       [0.03749064],\n",
       "       [0.30263883],\n",
       "       [0.00594321]], dtype=float32)"
      ]
     },
     "execution_count": 32,
     "metadata": {},
     "output_type": "execute_result"
    }
   ],
   "source": [
    "model.predict(X_train.reshape(60000,784))"
   ]
  },
  {
   "cell_type": "code",
   "execution_count": 26,
   "metadata": {},
   "outputs": [
    {
     "name": "stdout",
     "output_type": "stream",
     "text": [
      "['loss', 'mean_absolute_error', 'acc']\n"
     ]
    }
   ],
   "source": [
    "print(model.metrics_names)"
   ]
  }
 ],
 "metadata": {
  "kernelspec": {
   "display_name": "Python 3",
   "language": "python",
   "name": "python3"
  },
  "language_info": {
   "codemirror_mode": {
    "name": "ipython",
    "version": 3
   },
   "file_extension": ".py",
   "mimetype": "text/x-python",
   "name": "python",
   "nbconvert_exporter": "python",
   "pygments_lexer": "ipython3",
   "version": "3.7.3"
  }
 },
 "nbformat": 4,
 "nbformat_minor": 2
}
