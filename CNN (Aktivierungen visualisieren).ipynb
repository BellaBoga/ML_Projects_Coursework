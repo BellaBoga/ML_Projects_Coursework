{
 "cells": [
  {
   "cell_type": "code",
   "execution_count": 1,
   "metadata": {},
   "outputs": [
    {
     "name": "stderr",
     "output_type": "stream",
     "text": [
      "Using TensorFlow backend.\n"
     ]
    }
   ],
   "source": [
    "# Vorstellung: MNIST-Daten!\n",
    "# http://yann.lecun.com/exdb/mnist/\n",
    "# FashionMNIST: https://github.com/zalandoresearch/fashion-mnist\n",
    "\n",
    "import gzip\n",
    "import numpy as np\n",
    "from keras.utils import to_categorical\n",
    "\n",
    "def open_images(filename):\n",
    "    with gzip.open(filename, \"rb\") as file:\n",
    "        data = file.read()\n",
    "        return np.frombuffer(data, dtype=np.uint8, offset=16)\\\n",
    "            .reshape(-1, 28, 28)\\\n",
    "            .astype(np.float32)\n",
    "\n",
    "\n",
    "def open_labels(filename):\n",
    "    with gzip.open(filename, \"rb\") as file:\n",
    "        data = file.read()\n",
    "        return np.frombuffer(data, dtype=np.uint8, offset=8)\n",
    "    \n",
    "X_train = open_images(\"../data/fashion/train-images-idx3-ubyte.gz\")\n",
    "y_train = open_labels(\"../data/fashion/train-labels-idx1-ubyte.gz\")\n",
    "\n",
    "X_test = open_images(\"../data/fashion/t10k-images-idx3-ubyte.gz\")\n",
    "y_test = open_labels(\"../data/fashion/t10k-labels-idx1-ubyte.gz\")\n",
    "\n",
    "y_train = to_categorical(y_train)\n",
    "y_test = to_categorical(y_test)"
   ]
  },
  {
   "cell_type": "code",
   "execution_count": 2,
   "metadata": {},
   "outputs": [
    {
     "name": "stdout",
     "output_type": "stream",
     "text": [
      "WARNING:tensorflow:From /home/bella/anaconda3/lib/python3.7/site-packages/tensorflow/python/framework/op_def_library.py:263: colocate_with (from tensorflow.python.framework.ops) is deprecated and will be removed in a future version.\n",
      "Instructions for updating:\n",
      "Colocations handled automatically by placer.\n",
      "WARNING:tensorflow:From /home/bella/anaconda3/lib/python3.7/site-packages/tensorflow/python/ops/math_ops.py:3066: to_int32 (from tensorflow.python.ops.math_ops) is deprecated and will be removed in a future version.\n",
      "Instructions for updating:\n",
      "Use tf.cast instead.\n",
      "Epoch 1/10\n",
      "60000/60000 [==============================] - 5s 77us/step - loss: 1.3365 - acc: 0.6317\n",
      "Epoch 2/10\n",
      "60000/60000 [==============================] - 5s 77us/step - loss: 0.6293 - acc: 0.7801\n",
      "Epoch 3/10\n",
      "60000/60000 [==============================] - 4s 73us/step - loss: 0.5310 - acc: 0.8118\n",
      "Epoch 4/10\n",
      "60000/60000 [==============================] - 4s 71us/step - loss: 0.4555 - acc: 0.8388\n",
      "Epoch 5/10\n",
      "60000/60000 [==============================] - 4s 72us/step - loss: 0.4212 - acc: 0.8500\n",
      "Epoch 6/10\n",
      "60000/60000 [==============================] - 4s 72us/step - loss: 0.3941 - acc: 0.8606\n",
      "Epoch 7/10\n",
      "60000/60000 [==============================] - 4s 69us/step - loss: 0.3706 - acc: 0.8666\n",
      "Epoch 8/10\n",
      "60000/60000 [==============================] - 4s 70us/step - loss: 0.3572 - acc: 0.8718\n",
      "Epoch 9/10\n",
      "60000/60000 [==============================] - 4s 69us/step - loss: 0.3411 - acc: 0.8772\n",
      "Epoch 10/10\n",
      "60000/60000 [==============================] - 5s 81us/step - loss: 0.3266 - acc: 0.8820\n"
     ]
    },
    {
     "data": {
      "text/plain": [
       "<keras.callbacks.History at 0x7f0b0cfc1a20>"
      ]
     },
     "execution_count": 2,
     "metadata": {},
     "output_type": "execute_result"
    }
   ],
   "source": [
    "from keras.models import Sequential\n",
    "from keras.layers import Dense, Conv2D, Flatten\n",
    "\n",
    "model = Sequential()\n",
    "\n",
    "model.add(Conv2D(10, kernel_size=(3, 3), activation=\"sigmoid\", input_shape=(28, 28, 1)))\n",
    "model.add(Flatten())\n",
    "model.add(Dense(10, activation=\"softmax\"))\n",
    "\n",
    "model.compile(optimizer=\"rmsprop\", loss=\"categorical_crossentropy\", metrics=[\"accuracy\"])\n",
    "model.fit(X_train.reshape(60000, 28, 28, 1), y_train, epochs=10, batch_size=1000)"
   ]
  },
  {
   "cell_type": "code",
   "execution_count": 10,
   "metadata": {},
   "outputs": [
    {
     "data": {
      "text/plain": [
       "<tf.Variable 'conv2d_1/kernel:0' shape=(3, 3, 1, 10) dtype=float32_ref>"
      ]
     },
     "execution_count": 10,
     "metadata": {},
     "output_type": "execute_result"
    }
   ],
   "source": [
    "model.layers[0].weights[0]"
   ]
  },
  {
   "cell_type": "code",
   "execution_count": 4,
   "metadata": {},
   "outputs": [
    {
     "name": "stdout",
     "output_type": "stream",
     "text": [
      "[[[[ 0.04177773  0.1365259   0.08932077 -0.18977232  0.11279523\n",
      "     0.21023674 -0.22182854  0.05744099  0.17055108  0.0271113 ]]\n",
      "\n",
      "  [[-0.23886415 -0.2451612   0.20832844 -0.05492402 -0.0351461\n",
      "     0.16345711 -0.08475101  0.13598229 -0.16372462  0.15640359]]\n",
      "\n",
      "  [[ 0.2170342  -0.15060978 -0.02439535  0.15193535 -0.22746746\n",
      "     0.10905469  0.06223512 -0.0655081  -0.03046855 -0.15537083]]]\n",
      "\n",
      "\n",
      " [[[-0.05391142  0.17311344  0.08251261 -0.09052712  0.1433493\n",
      "     0.06112537 -0.28318942 -0.07190022 -0.23275238  0.12653755]]\n",
      "\n",
      "  [[ 0.08624288 -0.22586127 -0.22517486  0.22701982 -0.14808936\n",
      "    -0.22928596 -0.1760678  -0.03399464  0.14676552  0.16287136]]\n",
      "\n",
      "  [[-0.01952357  0.0741477   0.13433535  0.15922461 -0.02200254\n",
      "    -0.00905363  0.14054698  0.04821808 -0.01028671  0.18994588]]]\n",
      "\n",
      "\n",
      " [[[-0.21014054  0.08052576 -0.28294924 -0.12238106 -0.08295851\n",
      "    -0.06383465 -0.20014907 -0.18681704  0.02775868 -0.21421796]]\n",
      "\n",
      "  [[-0.2179666  -0.03373239 -0.27385545  0.05869723 -0.05257912\n",
      "    -0.15323558  0.12225119  0.04725551 -0.06883219 -0.06297264]]\n",
      "\n",
      "  [[ 0.09525406 -0.03074404 -0.10511194 -0.17206803  0.13049543\n",
      "    -0.22732174  0.11667354 -0.16651261 -0.09053782 -0.25531104]]]]\n"
     ]
    }
   ],
   "source": [
    "import keras.backend as K\n",
    "\n",
    "data = K.eval(model.layers[0].weights[0])\n",
    "print(data)"
   ]
  },
  {
   "cell_type": "code",
   "execution_count": 7,
   "metadata": {},
   "outputs": [
    {
     "data": {
      "text/plain": [
       "array([[ 0.04177773, -0.23886415,  0.2170342 ],\n",
       "       [-0.05391142,  0.08624288, -0.01952357],\n",
       "       [-0.21014054, -0.2179666 ,  0.09525406]], dtype=float32)"
      ]
     },
     "execution_count": 7,
     "metadata": {},
     "output_type": "execute_result"
    }
   ],
   "source": [
    "data[:, :, :, 0].reshape(3, 3)"
   ]
  },
  {
   "cell_type": "code",
   "execution_count": 13,
   "metadata": {},
   "outputs": [
    {
     "data": {
      "image/png": "[encoded data removed]",
      "text/plain": [
       "<Figure size 432x288 with 1 Axes>"
      ]
     },
     "metadata": {
      "needs_background": "light"
     },
     "output_type": "display_data"
    }
   ],
   "source": [
    "%matplotlib inline\n",
    "\n",
    "import matplotlib.pyplot as plt\n",
    "\n",
    "plt.imshow(data[:, :, :, 2].reshape(3, 3))\n",
    "plt.show()"
   ]
  },
  {
   "cell_type": "markdown",
   "metadata": {},
   "source": [
    "### Vergleich: https://en.wikipedia.org/wiki/Sobel_operator\n",
    "\n",
    "$ {\\displaystyle \\mathbf {G} _{x}={\\begin{bmatrix}+1&0&-1\\\\+2&0&-2\\\\+1&0&-1\\end{bmatrix}}*\\mathbf {A} \\quad {\\mbox{and}}\\quad \\mathbf {G} _{y}={\\begin{bmatrix}+1&+2&+1\\\\0&0&0\\\\-1&-2&-1\\end{bmatrix}}*\\mathbf {A} } $ "
   ]
  },
  {
   "cell_type": "code",
   "execution_count": null,
   "metadata": {},
   "outputs": [],
   "source": []
  }
 ],
 "metadata": {
  "kernelspec": {
   "display_name": "Python 3",
   "language": "python",
   "name": "python3"
  },
  "language_info": {
   "codemirror_mode": {
    "name": "ipython",
    "version": 3
   },
   "file_extension": ".py",
   "mimetype": "text/x-python",
   "name": "python",
   "nbconvert_exporter": "python",
   "pygments_lexer": "ipython3",
   "version": "3.7.3"
  }
 },
 "nbformat": 4,
 "nbformat_minor": 2
}
