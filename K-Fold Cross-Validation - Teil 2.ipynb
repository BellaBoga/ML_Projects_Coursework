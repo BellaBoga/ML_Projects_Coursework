{
 "cells": [
  {
   "cell_type": "code",
   "execution_count": null,
   "metadata": {},
   "outputs": [],
   "source": [
    "import pandas as pd\n",
    "\n",
    "df = pd.read_csv(\"./hotels.csv\")[:6]\n",
    "\n",
    "df"
   ]
  },
  {
   "cell_type": "code",
   "execution_count": null,
   "metadata": {},
   "outputs": [],
   "source": [
    "X = df[[\"Gewinn\", \"Quadratmeter\"]].values\n",
    "Y = df[[\"Preis in Mio\"]].values"
   ]
  },
  {
   "cell_type": "code",
   "execution_count": 6,
   "metadata": {},
   "outputs": [
    {
     "data": {
      "text/plain": [
       "array([[119000.,   3938.],\n",
       "       [250000.,   3986.],\n",
       "       [250000.,   2574.],\n",
       "       [145000.,   4155.],\n",
       "       [110000.,   3795.],\n",
       "       [246000.,   2773.]])"
      ]
     },
     "execution_count": 6,
     "metadata": {},
     "output_type": "execute_result"
    }
   ],
   "source": [
    "X"
   ]
  },
  {
   "cell_type": "code",
   "execution_count": 9,
   "metadata": {},
   "outputs": [
    {
     "data": {
      "text/plain": [
       "array([[119000.,   3938.],\n",
       "       [110000.,   3795.]])"
      ]
     },
     "execution_count": 9,
     "metadata": {},
     "output_type": "execute_result"
    }
   ],
   "source": [
    "X[[0, 4]]"
   ]
  },
  {
   "cell_type": "code",
   "execution_count": 5,
   "metadata": {},
   "outputs": [
    {
     "name": "stdout",
     "output_type": "stream",
     "text": [
      "train: [2 3 4 5]\n",
      "test: [0 1]\n",
      "-----------\n",
      "-0.23437406150775944\n",
      "train: [0 1 4 5]\n",
      "test: [2 3]\n",
      "-----------\n",
      "0.28817502863345124\n",
      "train: [0 1 2 3]\n",
      "test: [4 5]\n",
      "-----------\n",
      "-87.19441129592327\n"
     ]
    },
    {
     "name": "stderr",
     "output_type": "stream",
     "text": [
      "/home/bella/anaconda3/lib/python3.7/site-packages/sklearn/model_selection/_split.py:426: FutureWarning: You should specify a value for 'n_splits' instead of relying on the default value. The default value will change from 3 to 5 in version 0.22.\n",
      "  warnings.warn(NSPLIT_WARNING, FutureWarning)\n"
     ]
    }
   ],
   "source": [
    "from sklearn.model_selection import KFold\n",
    "from sklearn.linear_model import LinearRegression\n",
    "\n",
    "kf = KFold()\n",
    "\n",
    "for train_index, test_index in kf.split(X):\n",
    "    print(\"train: \" + str(train_index))\n",
    "    print(\"test: \" + str(test_index))\n",
    "    print(\"-----------\")\n",
    "    X_test = X[test_index]\n",
    "    X_train = X[train_index]\n",
    "    \n",
    "    y_test = Y[test_index]\n",
    "    y_train = Y[train_index]\n",
    "    \n",
    "    model = LinearRegression()\n",
    "    model.fit(X_train, y_train)\n",
    "    \n",
    "    print(model.score(X_test, y_test))"
   ]
  },
  {
   "cell_type": "code",
   "execution_count": null,
   "metadata": {},
   "outputs": [],
   "source": []
  }
 ],
 "metadata": {
  "kernelspec": {
   "display_name": "Python 3",
   "language": "python",
   "name": "python3"
  },
  "language_info": {
   "codemirror_mode": {
    "name": "ipython",
    "version": 3
   },
   "file_extension": ".py",
   "mimetype": "text/x-python",
   "name": "python",
   "nbconvert_exporter": "python",
   "pygments_lexer": "ipython3",
   "version": "3.7.3"
  }
 },
 "nbformat": 4,
 "nbformat_minor": 2
}
