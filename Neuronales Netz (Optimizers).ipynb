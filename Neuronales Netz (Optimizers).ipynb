{
 "cells": [
  {
   "cell_type": "code",
   "execution_count": 1,
   "metadata": {},
   "outputs": [
    {
     "name": "stderr",
     "output_type": "stream",
     "text": [
      "Using TensorFlow backend.\n"
     ]
    }
   ],
   "source": [
    "# Vorstellung: MNIST-Daten!\n",
    "# http://yann.lecun.com/exdb/mnist/\n",
    "# FashionMNIST: https://github.com/zalandoresearch/fashion-mnist\n",
    "\n",
    "import gzip\n",
    "import numpy as np\n",
    "from keras.utils import to_categorical\n",
    "\n",
    "def open_images(filename):\n",
    "    with gzip.open(filename, \"rb\") as file:\n",
    "        data = file.read()\n",
    "        return np.frombuffer(data, dtype=np.uint8, offset=16)\\\n",
    "            .reshape(-1, 28, 28)\\\n",
    "            .astype(np.float32)\n",
    "\n",
    "\n",
    "def open_labels(filename):\n",
    "    with gzip.open(filename, \"rb\") as file:\n",
    "        data = file.read()\n",
    "        return np.frombuffer(data, dtype=np.uint8, offset=8)\n",
    "    \n",
    "X_train = open_images(\"../data/fashion/train-images-idx3-ubyte.gz\")\n",
    "y_train = open_labels(\"../data/fashion/train-labels-idx1-ubyte.gz\")\n",
    "\n",
    "X_test = open_images(\"../data/fashion/t10k-images-idx3-ubyte.gz\")\n",
    "y_test = open_labels(\"../data/fashion/t10k-labels-idx1-ubyte.gz\")\n",
    "\n",
    "y_train = to_categorical(y_train)\n",
    "y_test = to_categorical(y_test)"
   ]
  },
  {
   "cell_type": "markdown",
   "metadata": {},
   "source": [
    "### Neuronales Netz (mit Softmax)"
   ]
  },
  {
   "cell_type": "code",
   "execution_count": 2,
   "metadata": {},
   "outputs": [],
   "source": [
    "from keras.models import Sequential\n",
    "from keras.layers import Dense"
   ]
  },
  {
   "cell_type": "code",
   "execution_count": 9,
   "metadata": {},
   "outputs": [],
   "source": [
    "model = Sequential()\n",
    "\n",
    "model.add(Dense(100, activation=\"sigmoid\", input_shape=(784,)))\n",
    "model.add(Dense(10, activation=\"softmax\"))\n",
    "\n",
    "# rmsprop, adam\n",
    "model.compile(optimizer=\"adam\", loss=\"categorical_crossentropy\", metrics=[\"accuracy\"])"
   ]
  },
  {
   "cell_type": "code",
   "execution_count": 12,
   "metadata": {},
   "outputs": [
    {
     "name": "stdout",
     "output_type": "stream",
     "text": [
      "Epoch 1/15\n",
      "60000/60000 [==============================] - 0s 6us/step - loss: 0.4566 - acc: 0.8373\n",
      "Epoch 2/15\n",
      "60000/60000 [==============================] - 0s 6us/step - loss: 0.4557 - acc: 0.8380\n",
      "Epoch 3/15\n",
      "60000/60000 [==============================] - 0s 6us/step - loss: 0.4554 - acc: 0.8400\n",
      "Epoch 4/15\n",
      "60000/60000 [==============================] - 0s 6us/step - loss: 0.4508 - acc: 0.8411\n",
      "Epoch 5/15\n",
      "60000/60000 [==============================] - 0s 6us/step - loss: 0.4587 - acc: 0.8380\n",
      "Epoch 6/15\n",
      "60000/60000 [==============================] - 0s 7us/step - loss: 0.4529 - acc: 0.8384\n",
      "Epoch 7/15\n",
      "60000/60000 [==============================] - 0s 7us/step - loss: 0.4516 - acc: 0.8395\n",
      "Epoch 8/15\n",
      "60000/60000 [==============================] - 0s 7us/step - loss: 0.4462 - acc: 0.8405\n",
      "Epoch 9/15\n",
      "60000/60000 [==============================] - 0s 7us/step - loss: 0.4468 - acc: 0.8413\n",
      "Epoch 10/15\n",
      "60000/60000 [==============================] - 1s 9us/step - loss: 0.4474 - acc: 0.8409\n",
      "Epoch 11/15\n",
      "60000/60000 [==============================] - 0s 7us/step - loss: 0.4417 - acc: 0.8448\n",
      "Epoch 12/15\n",
      "60000/60000 [==============================] - 0s 7us/step - loss: 0.4517 - acc: 0.8420\n",
      "Epoch 13/15\n",
      "60000/60000 [==============================] - 0s 7us/step - loss: 0.4499 - acc: 0.8403\n",
      "Epoch 14/15\n",
      "60000/60000 [==============================] - 0s 6us/step - loss: 0.4474 - acc: 0.8405\n",
      "Epoch 15/15\n",
      "60000/60000 [==============================] - 0s 7us/step - loss: 0.4509 - acc: 0.8398\n"
     ]
    },
    {
     "data": {
      "text/plain": [
       "<keras.callbacks.History at 0x7f1c142a0cf8>"
      ]
     },
     "execution_count": 12,
     "metadata": {},
     "output_type": "execute_result"
    }
   ],
   "source": [
    "model.fit(\n",
    "    X_train.reshape(60000, 784),\n",
    "    y_train,\n",
    "    epochs=15,\n",
    "    batch_size=1000)"
   ]
  },
  {
   "cell_type": "code",
   "execution_count": 7,
   "metadata": {},
   "outputs": [
    {
     "name": "stdout",
     "output_type": "stream",
     "text": [
      "10000/10000 [==============================] - 0s 25us/step\n"
     ]
    },
    {
     "data": {
      "text/plain": [
       "[0.5140074430465699, 0.8148]"
      ]
     },
     "execution_count": 7,
     "metadata": {},
     "output_type": "execute_result"
    }
   ],
   "source": [
    "model.evaluate(X_test.reshape(-1, 784), y_test)"
   ]
  },
  {
   "cell_type": "code",
   "execution_count": 51,
   "metadata": {},
   "outputs": [],
   "source": [
    "predictions = model.predict(X_test.reshape(-1, 784))"
   ]
  },
  {
   "cell_type": "code",
   "execution_count": 52,
   "metadata": {},
   "outputs": [
    {
     "data": {
      "text/plain": [
       "array([0.04052383, 0.01013587, 0.6088565 , 0.01352766, 0.11325114,\n",
       "       0.01926491, 0.15268987, 0.0048103 , 0.02799441, 0.00894551],\n",
       "      dtype=float32)"
      ]
     },
     "execution_count": 52,
     "metadata": {},
     "output_type": "execute_result"
    }
   ],
   "source": [
    "predictions[1]"
   ]
  },
  {
   "cell_type": "code",
   "execution_count": 53,
   "metadata": {},
   "outputs": [
    {
     "data": {
      "text/plain": [
       "1.0"
      ]
     },
     "execution_count": 53,
     "metadata": {},
     "output_type": "execute_result"
    }
   ],
   "source": [
    "np.sum(predictions[1])"
   ]
  },
  {
   "cell_type": "code",
   "execution_count": null,
   "metadata": {},
   "outputs": [],
   "source": []
  }
 ],
 "metadata": {
  "kernelspec": {
   "display_name": "Python 3",
   "language": "python",
   "name": "python3"
  },
  "language_info": {
   "codemirror_mode": {
    "name": "ipython",
    "version": 3
   },
   "file_extension": ".py",
   "mimetype": "text/x-python",
   "name": "python",
   "nbconvert_exporter": "python",
   "pygments_lexer": "ipython3",
   "version": "3.7.3"
  }
 },
 "nbformat": 4,
 "nbformat_minor": 2
}
